{
 "cells": [
  {
   "cell_type": "code",
   "execution_count": 10,
   "id": "6f7d2dcd",
   "metadata": {},
   "outputs": [
    {
     "data": {
      "text/html": [
       "<div>\n",
       "<style scoped>\n",
       "    .dataframe tbody tr th:only-of-type {\n",
       "        vertical-align: middle;\n",
       "    }\n",
       "\n",
       "    .dataframe tbody tr th {\n",
       "        vertical-align: top;\n",
       "    }\n",
       "\n",
       "    .dataframe thead th {\n",
       "        text-align: right;\n",
       "    }\n",
       "</style>\n",
       "<table border=\"1\" class=\"dataframe\">\n",
       "  <thead>\n",
       "    <tr style=\"text-align: right;\">\n",
       "      <th></th>\n",
       "      <th>Satisfaction</th>\n",
       "      <th>Smart Thermostat</th>\n",
       "      <th>Smart Light</th>\n",
       "      <th>Total</th>\n",
       "    </tr>\n",
       "  </thead>\n",
       "  <tbody>\n",
       "    <tr>\n",
       "      <th>0</th>\n",
       "      <td>Very Satisfied</td>\n",
       "      <td>50</td>\n",
       "      <td>70</td>\n",
       "      <td>120</td>\n",
       "    </tr>\n",
       "    <tr>\n",
       "      <th>1</th>\n",
       "      <td>Satisfied</td>\n",
       "      <td>80</td>\n",
       "      <td>100</td>\n",
       "      <td>180</td>\n",
       "    </tr>\n",
       "    <tr>\n",
       "      <th>2</th>\n",
       "      <td>Neutral</td>\n",
       "      <td>60</td>\n",
       "      <td>90</td>\n",
       "      <td>150</td>\n",
       "    </tr>\n",
       "    <tr>\n",
       "      <th>3</th>\n",
       "      <td>Unsatisfied</td>\n",
       "      <td>30</td>\n",
       "      <td>50</td>\n",
       "      <td>80</td>\n",
       "    </tr>\n",
       "    <tr>\n",
       "      <th>4</th>\n",
       "      <td>Very Unsatisfied</td>\n",
       "      <td>20</td>\n",
       "      <td>50</td>\n",
       "      <td>70</td>\n",
       "    </tr>\n",
       "    <tr>\n",
       "      <th>5</th>\n",
       "      <td>Total</td>\n",
       "      <td>240</td>\n",
       "      <td>360</td>\n",
       "      <td>600</td>\n",
       "    </tr>\n",
       "  </tbody>\n",
       "</table>\n",
       "</div>"
      ],
      "text/plain": [
       "       Satisfaction  Smart Thermostat  Smart Light  Total\n",
       "0    Very Satisfied                50           70    120\n",
       "1         Satisfied                80          100    180\n",
       "2           Neutral                60           90    150\n",
       "3       Unsatisfied                30           50     80\n",
       "4  Very Unsatisfied                20           50     70\n",
       "5             Total               240          360    600"
      ]
     },
     "execution_count": 10,
     "metadata": {},
     "output_type": "execute_result"
    }
   ],
   "source": [
    "#Chi-Square test of independence\n",
    "from scipy.stats import chi2_contingency \n",
    "import pandas as pd\n",
    "data = pd.read_csv(\"C:\\\\Users\\\\maheh\\\\Downloads\\\\Chi-square data.csv\")\n",
    "data\n"
   ]
  },
  {
   "cell_type": "markdown",
   "id": "c7e56160",
   "metadata": {},
   "source": [
    "Test of Hypothesis:\n",
    "Null Hypothesis (H0): There is no significant association between the satisfaction levels and \n",
    "    the use of smart devices (independence).\n",
    "\n",
    "Alternative Hypothesis (H1): There is a significant association between the satisfaction levels and\n",
    "    the use of smart devices (dependence)."
   ]
  },
  {
   "cell_type": "code",
   "execution_count": 35,
   "id": "c06b7c2a",
   "metadata": {},
   "outputs": [
    {
     "name": "stdout",
     "output_type": "stream",
     "text": [
      "Chi-Square Statistic: 30.000000000000014\n",
      "p-value: 0.22428900483440342\n",
      "Degrees of Freedom: 25\n",
      "Expected Frequencies: [[0.16666667 0.16666667 0.16666667 0.16666667 0.16666667 0.16666667]\n",
      " [0.16666667 0.16666667 0.16666667 0.16666667 0.16666667 0.16666667]\n",
      " [0.16666667 0.16666667 0.16666667 0.16666667 0.16666667 0.16666667]\n",
      " [0.16666667 0.16666667 0.16666667 0.16666667 0.16666667 0.16666667]\n",
      " [0.16666667 0.16666667 0.16666667 0.16666667 0.16666667 0.16666667]\n",
      " [0.16666667 0.16666667 0.16666667 0.16666667 0.16666667 0.16666667]]\n"
     ]
    }
   ],
   "source": [
    "#calculating chi-square stattistic\n",
    "contingency_table=pd.crosstab(data[\"Satisfaction\"],[data[\"Smart Thermostat\"],data[\"Smart Light\"]])\n",
    "chi2, p, dof , expected=chi2_contingency(contingency_table)\n",
    "\n",
    "print(\"Chi-Square Statistic:\",chi2)\n",
    "print(\"p-value:\", p)\n",
    "print(\"Degrees of Freedom:\",dof)\n",
    "print(\"Expected Frequencies:\",expected)"
   ]
  },
  {
   "cell_type": "code",
   "execution_count": 26,
   "id": "16b19c05",
   "metadata": {},
   "outputs": [
    {
     "name": "stdout",
     "output_type": "stream",
     "text": [
      "Critical Value: 11.070497693516351\n"
     ]
    }
   ],
   "source": [
    "from scipy.stats import chi2\n",
    "\n",
    "# Degrees of Freedom (dof)\n",
    "dof = len(contingency_table.index) - 1\n",
    "\n",
    "# Significance level\n",
    "alpha = 0.05\n",
    "\n",
    "# Critical value\n",
    "#critical_value = chi2.ppf(1 - alpha, dof)\n",
    "critical_value = chi2.ppf(0.95, dof) # Using 0.95 for a 5% significance level\n",
    "\n",
    "print(f'Critical Value: {critical_value}')\n"
   ]
  },
  {
   "cell_type": "code",
   "execution_count": 28,
   "id": "3b84b4cf",
   "metadata": {},
   "outputs": [
    {
     "name": "stdout",
     "output_type": "stream",
     "text": [
      "H0 is rejected and H1 is accepted\n"
     ]
    }
   ],
   "source": [
    "chi2_stat=30.000000000000014\n",
    "if chi2_stat > critical_value:\n",
    "    print(\"H0 is rejected and H1 is accepted\")\n",
    "    \n",
    "else:\n",
    "    print(\"H0 is accepted and H1 is rejected\")"
   ]
  },
  {
   "cell_type": "markdown",
   "id": "97a07538",
   "metadata": {},
   "source": [
    "Conclusion:There is a significant association between the satisfaction levels and\n",
    "    the use of smart devices (dependence)."
   ]
  },
  {
   "cell_type": "markdown",
   "id": "cf39a930",
   "metadata": {},
   "source": [
    "------> HYPOTHESIS TESTING"
   ]
  },
  {
   "cell_type": "markdown",
   "id": "672fa8ab",
   "metadata": {},
   "source": [
    "Null Hypothesis (H0): The weekly operating cost model W=$,000+$5X is accurate.\n",
    "\n",
    "Alternative Hypothesis (H1): The actual weekly operating costs are higher than the model suggests.\n",
    "    \n",
    "Sample mean (x) = Rs. 3,050\n",
    "\n",
    "Theoretical mean (μ) = $1,000 + $5 * 600 = $4,000\n",
    "\n",
    "Standard deviation (σ) = 5 * 25 = 125\n",
    "Sample size (n) = 25\n",
    "\n"
   ]
  },
  {
   "cell_type": "code",
   "execution_count": 30,
   "id": "467e4f4f",
   "metadata": {},
   "outputs": [
    {
     "name": "stdout",
     "output_type": "stream",
     "text": [
      "Test Statistic: -38.0\n"
     ]
    }
   ],
   "source": [
    "import numpy as np\n",
    "\n",
    "# Given values\n",
    "sample_mean = 3050\n",
    "theoretical_mean = 1000 + 5 * 600\n",
    "std_dev = 5 * 25\n",
    "sample_size = 25\n",
    "\n",
    "# Calculate the test statistic (t)\n",
    "t_statistic = (sample_mean - theoretical_mean) / (std_dev / np.sqrt(sample_size))\n",
    "\n",
    "print(\"Test Statistic:\",t_statistic)\n",
    "\n"
   ]
  },
  {
   "cell_type": "code",
   "execution_count": 31,
   "id": "b15c9105",
   "metadata": {},
   "outputs": [
    {
     "data": {
      "text/plain": [
       "6.644853626951472"
      ]
     },
     "execution_count": 31,
     "metadata": {},
     "output_type": "execute_result"
    }
   ],
   "source": [
    "from scipy.stats import norm\n",
    "alpha=0.05\n",
    "critical_value=norm.ppf(1-alpha,dof)\n",
    "critical_value"
   ]
  },
  {
   "cell_type": "code",
   "execution_count": 33,
   "id": "5c5e5101",
   "metadata": {},
   "outputs": [
    {
     "name": "stdout",
     "output_type": "stream",
     "text": [
      "H0 is accpeted and H1 is rejected\n"
     ]
    }
   ],
   "source": [
    "if t_statistic > critical_value:\n",
    "    print(\"H0 is rejected and H1 is accepted\")\n",
    "else:\n",
    "    print(\"H0 is accpeted and H1 is rejected\")"
   ]
  },
  {
   "cell_type": "markdown",
   "id": "2b4daf1f",
   "metadata": {},
   "source": [
    "Conlusion:Here is strong evidence to support the restaurant owners\n",
    "    claim that the weekly operating costs are higher than the model suggests."
   ]
  }
 ],
 "metadata": {
  "kernelspec": {
   "display_name": "Python 3 (ipykernel)",
   "language": "python",
   "name": "python3"
  },
  "language_info": {
   "codemirror_mode": {
    "name": "ipython",
    "version": 3
   },
   "file_extension": ".py",
   "mimetype": "text/x-python",
   "name": "python",
   "nbconvert_exporter": "python",
   "pygments_lexer": "ipython3",
   "version": "3.9.13"
  }
 },
 "nbformat": 4,
 "nbformat_minor": 5
}
